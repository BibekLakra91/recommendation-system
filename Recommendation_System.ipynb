{
 "cells": [
  {
   "cell_type": "code",
   "execution_count": 17,
   "id": "9bf14e37",
   "metadata": {},
   "outputs": [],
   "source": [
    "import pandas as pd\n",
    "import numpy as np\n",
    "from sklearn.feature_extraction.text import TfidfVectorizer\n",
    "from sklearn.metrics.pairwise import cosine_similarity\n",
    "from sklearn.model_selection import train_test_split\n",
    "from sklearn.metrics import accuracy_score"
   ]
  },
  {
   "cell_type": "code",
   "execution_count": 18,
   "id": "74639642",
   "metadata": {
    "scrolled": true
   },
   "outputs": [
    {
     "data": {
      "text/html": [
       "<div>\n",
       "<style scoped>\n",
       "    .dataframe tbody tr th:only-of-type {\n",
       "        vertical-align: middle;\n",
       "    }\n",
       "\n",
       "    .dataframe tbody tr th {\n",
       "        vertical-align: top;\n",
       "    }\n",
       "\n",
       "    .dataframe thead th {\n",
       "        text-align: right;\n",
       "    }\n",
       "</style>\n",
       "<table border=\"1\" class=\"dataframe\">\n",
       "  <thead>\n",
       "    <tr style=\"text-align: right;\">\n",
       "      <th></th>\n",
       "      <th>item_id</th>\n",
       "      <th>tags</th>\n",
       "      <th>hashtags</th>\n",
       "      <th>interacted</th>\n",
       "      <th>interactions</th>\n",
       "    </tr>\n",
       "  </thead>\n",
       "  <tbody>\n",
       "    <tr>\n",
       "      <th>0</th>\n",
       "      <td>64253c1f8b8de00a9072b3a6</td>\n",
       "      <td>Topwear | Men T-Shirts | white | printed | reg...</td>\n",
       "      <td>#tshirt #topwear #menswear #gandhinagar #ludhiana</td>\n",
       "      <td>No</td>\n",
       "      <td>0</td>\n",
       "    </tr>\n",
       "    <tr>\n",
       "      <th>1</th>\n",
       "      <td>6423c06e9ef5a81769053d77</td>\n",
       "      <td>Topwear | Men T-Shirts | maroon | cotton | pri...</td>\n",
       "      <td>#tshirt #topwear #menswear #gandhinagar #ludhiana</td>\n",
       "      <td>No</td>\n",
       "      <td>0</td>\n",
       "    </tr>\n",
       "    <tr>\n",
       "      <th>2</th>\n",
       "      <td>6424f5cd3a36c8270f258de8</td>\n",
       "      <td>Women Topwear | pink | regular | casual | 3/4 ...</td>\n",
       "      <td>#kidswear #ladieswear #tops #fancytops #plazzo</td>\n",
       "      <td>No</td>\n",
       "      <td>0</td>\n",
       "    </tr>\n",
       "    <tr>\n",
       "      <th>3</th>\n",
       "      <td>64251ffe9ef5a8176905defe</td>\n",
       "      <td>Indian &amp; Fusionwear | Kurtis | green | festive...</td>\n",
       "      <td>#Designerkurti #wholesale #surat #womenwears</td>\n",
       "      <td>No</td>\n",
       "      <td>0</td>\n",
       "    </tr>\n",
       "    <tr>\n",
       "      <th>4</th>\n",
       "      <td>6425ac9d6fea7019f37f03cf</td>\n",
       "      <td>Indian &amp; Fusionwear | Kurtis | yellow | casual...</td>\n",
       "      <td>#Designerkurti #wholesale #surat #womenwears</td>\n",
       "      <td>No</td>\n",
       "      <td>0</td>\n",
       "    </tr>\n",
       "  </tbody>\n",
       "</table>\n",
       "</div>"
      ],
      "text/plain": [
       "                    item_id  \\\n",
       "0  64253c1f8b8de00a9072b3a6   \n",
       "1  6423c06e9ef5a81769053d77   \n",
       "2  6424f5cd3a36c8270f258de8   \n",
       "3  64251ffe9ef5a8176905defe   \n",
       "4  6425ac9d6fea7019f37f03cf   \n",
       "\n",
       "                                                tags  \\\n",
       "0  Topwear | Men T-Shirts | white | printed | reg...   \n",
       "1  Topwear | Men T-Shirts | maroon | cotton | pri...   \n",
       "2  Women Topwear | pink | regular | casual | 3/4 ...   \n",
       "3  Indian & Fusionwear | Kurtis | green | festive...   \n",
       "4  Indian & Fusionwear | Kurtis | yellow | casual...   \n",
       "\n",
       "                                            hashtags interacted  interactions  \n",
       "0  #tshirt #topwear #menswear #gandhinagar #ludhiana         No             0  \n",
       "1  #tshirt #topwear #menswear #gandhinagar #ludhiana         No             0  \n",
       "2     #kidswear #ladieswear #tops #fancytops #plazzo         No             0  \n",
       "3       #Designerkurti #wholesale #surat #womenwears         No             0  \n",
       "4       #Designerkurti #wholesale #surat #womenwears         No             0  "
      ]
     },
     "execution_count": 18,
     "metadata": {},
     "output_type": "execute_result"
    }
   ],
   "source": [
    "df=pd.read_excel(\"Assignment - ML - Supporting Data.xlsx\")\n",
    "df.head()"
   ]
  },
  {
   "cell_type": "code",
   "execution_count": 19,
   "id": "44ce31c0",
   "metadata": {},
   "outputs": [
    {
     "data": {
      "text/plain": [
       "(998, 5)"
      ]
     },
     "execution_count": 19,
     "metadata": {},
     "output_type": "execute_result"
    }
   ],
   "source": [
    "df.shape"
   ]
  },
  {
   "cell_type": "code",
   "execution_count": 20,
   "id": "49299735",
   "metadata": {},
   "outputs": [
    {
     "name": "stdout",
     "output_type": "stream",
     "text": [
      "<class 'pandas.core.frame.DataFrame'>\n",
      "RangeIndex: 998 entries, 0 to 997\n",
      "Data columns (total 5 columns):\n",
      " #   Column        Non-Null Count  Dtype \n",
      "---  ------        --------------  ----- \n",
      " 0   item_id       998 non-null    object\n",
      " 1   tags          998 non-null    object\n",
      " 2   hashtags      997 non-null    object\n",
      " 3   interacted    998 non-null    object\n",
      " 4   interactions  998 non-null    int64 \n",
      "dtypes: int64(1), object(4)\n",
      "memory usage: 39.1+ KB\n"
     ]
    }
   ],
   "source": [
    "df.info()"
   ]
  },
  {
   "cell_type": "code",
   "execution_count": 21,
   "id": "9ec247ef",
   "metadata": {},
   "outputs": [],
   "source": [
    "def important_features(dataset):\n",
    "    data=dataset.copy()\n",
    "    for i in range(0,data.shape[0]):\n",
    "        data['tags'].fillna('', inplace=True)\n",
    "        data['hashtags'].fillna('', inplace=True)\n",
    "        data[\"feature\"]=data[\"tags\"]+' '+data[\"hashtags\"]\n",
    "    return data"
   ]
  },
  {
   "cell_type": "code",
   "execution_count": 22,
   "id": "6e3b2082",
   "metadata": {},
   "outputs": [
    {
     "data": {
      "text/plain": [
       "0      Topwear | Men T-Shirts | white | printed | reg...\n",
       "1      Topwear | Men T-Shirts | maroon | cotton | pri...\n",
       "2      Women Topwear | pink | regular | casual | 3/4 ...\n",
       "3      Indian & Fusionwear | Kurtis | green | festive...\n",
       "4      Indian & Fusionwear | Kurtis | yellow | casual...\n",
       "                             ...                        \n",
       "993    Topwear | Sweatshirts | multi color | regular ...\n",
       "994    Boys Clothing | Kids Jeans #jeans #boysjeans #...\n",
       "995    Bottomwear | Men Jeans #menswear #mensjeans #j...\n",
       "996    Bottomwear | Sports & Activewear | Men Jeans |...\n",
       "997    Topwear | Sweatshirts | black | regular | wedd...\n",
       "Name: feature, Length: 998, dtype: object"
      ]
     },
     "execution_count": 22,
     "metadata": {},
     "output_type": "execute_result"
    }
   ],
   "source": [
    "df=important_features(df)\n",
    "df[\"feature\"]"
   ]
  },
  {
   "cell_type": "code",
   "execution_count": 23,
   "id": "6f38d9af",
   "metadata": {},
   "outputs": [],
   "source": [
    "# Split the data into training and testing sets\n",
    "train_data, test_data = train_test_split(df, test_size=0.3, random_state=42)"
   ]
  },
  {
   "cell_type": "code",
   "execution_count": 24,
   "id": "b233df6b",
   "metadata": {},
   "outputs": [],
   "source": [
    "# Importing vectoriser\n",
    "vec=TfidfVectorizer()"
   ]
  },
  {
   "cell_type": "code",
   "execution_count": 25,
   "id": "623e0e8c",
   "metadata": {},
   "outputs": [],
   "source": [
    "# Converting the features into vectors\n",
    "tfidf_matrix_train = vec.fit_transform(train_data['feature'])\n",
    "tfidf_matrix_test = vec.transform(test_data['feature'])\n"
   ]
  },
  {
   "cell_type": "code",
   "execution_count": 26,
   "id": "d19d6027",
   "metadata": {},
   "outputs": [
    {
     "data": {
      "text/plain": [
       "array([[0.02935089, 0.45771933, 0.04202034, ..., 0.        , 0.02670476,\n",
       "        0.06381131],\n",
       "       [0.08461481, 0.0314042 , 0.03983023, ..., 0.        , 0.01992073,\n",
       "        0.06580773],\n",
       "       [0.09715775, 0.01429901, 0.91373989, ..., 0.0869278 , 0.20426244,\n",
       "        0.34952908],\n",
       "       ...,\n",
       "       [0.01343592, 0.04011363, 0.03851834, ..., 0.        , 0.03635961,\n",
       "        0.05753952],\n",
       "       [0.09703048, 0.11594089, 0.25135105, ..., 0.0437215 , 0.47877051,\n",
       "        0.34901675],\n",
       "       [0.03170018, 0.05931547, 0.05510418, ..., 0.35420955, 0.05201591,\n",
       "        0.06156474]])"
      ]
     },
     "execution_count": 26,
     "metadata": {},
     "output_type": "execute_result"
    }
   ],
   "source": [
    "#Similarity measurements stored\n",
    "similarity=cosine_similarity(tfidf_matrix_test, tfidf_matrix_train)\n",
    "similarity"
   ]
  },
  {
   "cell_type": "code",
   "execution_count": 27,
   "id": "dee86ee9",
   "metadata": {},
   "outputs": [
    {
     "name": "stdout",
     "output_type": "stream",
     "text": [
      "sim shape: (300, 698)\n",
      "interactions shape: (698,)\n"
     ]
    }
   ],
   "source": [
    "#Debug step\n",
    "print(\"sim shape:\", similarity.shape)\n",
    "print(\"interactions shape:\", train_data['interactions'].shape)"
   ]
  },
  {
   "cell_type": "code",
   "execution_count": 28,
   "id": "40d8c175",
   "metadata": {},
   "outputs": [
    {
     "data": {
      "text/plain": [
       "array([0.        , 0.        , 0.00689655, 0.        , 0.        ,\n",
       "       0.        , 1.        , 0.02      , 0.        , 0.        ,\n",
       "       1.        , 0.01145038, 0.86666667, 0.        , 0.84210526,\n",
       "       0.01219512, 0.9625    , 0.        , 0.        , 0.        ,\n",
       "       0.01111111, 0.        , 1.        , 1.        , 1.        ,\n",
       "       0.        , 0.02631579, 0.        , 0.91836735, 0.11363636,\n",
       "       0.        , 0.11111111, 0.        , 0.        , 0.        ,\n",
       "       0.        , 0.        , 0.0212766 , 0.        , 0.        ,\n",
       "       0.01724138, 0.        , 1.        , 0.        , 0.04      ,\n",
       "       0.        , 0.        , 0.        , 0.19047619, 0.58333333,\n",
       "       0.07142857, 0.        , 0.        , 0.00980392, 0.01      ,\n",
       "       0.015625  , 0.00425532, 0.        , 0.02439024, 0.        ,\n",
       "       0.00873362, 1.        , 1.        , 0.02272727, 0.01970443,\n",
       "       0.41666667, 0.01449275, 0.        , 0.00598802, 1.        ,\n",
       "       0.        , 0.        , 0.        , 0.        , 0.125     ,\n",
       "       1.        , 0.        , 0.        , 0.        , 1.        ,\n",
       "       0.004329  , 0.        , 0.004329  , 0.36666667, 0.        ,\n",
       "       0.2       , 0.        , 0.        , 0.03125   , 0.        ,\n",
       "       0.0625    , 0.        , 0.11111111, 0.        , 0.        ,\n",
       "       0.00769231, 0.00873362, 0.97142857, 0.03225806, 0.6       ,\n",
       "       0.        , 0.18181818, 0.04347826, 1.        , 0.        ,\n",
       "       1.        , 1.        , 0.02325581, 0.        , 0.11111111,\n",
       "       1.        , 0.01351351, 0.        , 0.00980392, 0.        ,\n",
       "       0.        , 0.        , 0.11111111, 0.        , 0.06896552,\n",
       "       0.01428571, 0.06666667, 0.        , 0.94915254, 0.        ,\n",
       "       1.        , 0.        , 0.00980392, 0.        , 0.95522388,\n",
       "       0.00689655, 0.38636364, 0.        , 0.        , 0.        ,\n",
       "       1.        , 0.        , 0.57142857, 0.27692308, 1.        ,\n",
       "       0.        , 0.03361345, 0.00980392, 0.        , 0.01851852,\n",
       "       1.        , 0.53333333, 0.36      , 0.        , 0.        ,\n",
       "       0.01142857, 0.95890411, 0.        , 0.        , 0.        ,\n",
       "       0.        , 0.        , 0.        , 0.05714286, 0.        ,\n",
       "       0.96923077, 0.        , 0.        , 0.        , 0.        ,\n",
       "       1.        , 0.        , 0.12195122, 0.        , 0.        ,\n",
       "       0.        , 0.66666667, 0.        , 1.        , 0.00526316,\n",
       "       0.        , 0.98148148, 0.07692308, 0.78947368, 0.05263158,\n",
       "       0.00943396, 0.01428571, 0.        , 0.        , 0.        ,\n",
       "       1.        , 0.01030928, 0.        , 0.89655172, 1.        ,\n",
       "       0.        , 0.96551724, 0.        , 0.        , 0.00980392,\n",
       "       0.        , 0.00970874, 0.        , 0.04081633, 0.03125   ,\n",
       "       0.        , 0.00980392, 0.        , 1.        , 0.        ,\n",
       "       0.47058824, 0.01219512, 0.        , 0.        , 0.93333333,\n",
       "       0.84210526, 0.        , 0.02051282, 0.        , 0.05      ,\n",
       "       0.        , 1.        , 0.00598802, 0.04878049, 0.        ,\n",
       "       0.84210526, 0.00943396, 0.        , 0.        , 0.73333333,\n",
       "       0.        , 1.        , 0.875     , 0.07142857, 0.94871795,\n",
       "       0.        , 0.00980392, 0.00598802, 0.        , 0.        ,\n",
       "       0.        , 0.05      , 0.        , 0.        , 0.0212766 ,\n",
       "       0.        , 0.        , 0.04411765, 0.        , 0.01345291,\n",
       "       0.07692308, 0.01785714, 0.        , 0.        , 0.45454545,\n",
       "       0.00787402, 0.94202899, 0.        , 0.03030303, 0.11764706,\n",
       "       0.        , 0.07142857, 0.01005025, 0.01287554, 1.        ,\n",
       "       0.        , 0.        , 0.00598802, 0.        , 0.97058824,\n",
       "       0.        , 0.9516129 , 0.        , 0.        , 0.01020408,\n",
       "       0.        , 1.        , 0.00943396, 0.92682927, 0.01449275,\n",
       "       0.        , 0.04918033, 0.        , 0.        , 0.02631579,\n",
       "       0.        , 0.71428571, 0.        , 0.01226994, 0.        ,\n",
       "       0.        , 0.        , 0.01005025, 1.        , 0.        ,\n",
       "       1.        , 0.00729927, 0.        , 0.        , 0.98550725,\n",
       "       0.00854701, 0.00769231, 0.        , 0.        , 0.85      ])"
      ]
     },
     "execution_count": 28,
     "metadata": {},
     "output_type": "execute_result"
    }
   ],
   "source": [
    "user_interactions = (train_data['interactions'] > 0).astype(int).values\n",
    "\n",
    "# Hyperparameter1\n",
    "similarity_threshold = 0.3\n",
    "\n",
    "# Calculate the interaction rate for each test item\n",
    "interaction_rates = np.sum(user_interactions * (similarity > similarity_threshold), axis=1) / np.sum(similarity > similarity_threshold, axis=1)\n",
    "\n",
    "interaction_rates"
   ]
  },
  {
   "cell_type": "code",
   "execution_count": 29,
   "id": "a26b8d21",
   "metadata": {},
   "outputs": [
    {
     "data": {
      "text/plain": [
       "array([0, 0, 0, 0, 0, 0, 1, 0, 0, 0, 1, 0, 1, 0, 1, 0, 1, 0, 0, 0, 0, 0,\n",
       "       1, 1, 1, 0, 0, 0, 1, 0, 0, 0, 0, 0, 0, 0, 0, 0, 0, 0, 0, 0, 1, 0,\n",
       "       0, 0, 0, 0, 0, 1, 0, 0, 0, 0, 0, 0, 0, 0, 0, 0, 0, 1, 1, 0, 0, 1,\n",
       "       0, 0, 0, 1, 0, 0, 0, 0, 0, 1, 0, 0, 0, 1, 0, 0, 0, 1, 0, 0, 0, 0,\n",
       "       0, 0, 0, 0, 0, 0, 0, 0, 0, 1, 0, 1, 0, 0, 0, 1, 0, 1, 1, 0, 0, 0,\n",
       "       1, 0, 0, 0, 0, 0, 0, 0, 0, 0, 0, 0, 0, 1, 0, 1, 0, 0, 0, 1, 0, 1,\n",
       "       0, 0, 0, 1, 0, 1, 0, 1, 0, 0, 0, 0, 0, 1, 1, 1, 0, 0, 0, 1, 0, 0,\n",
       "       0, 0, 0, 0, 0, 0, 1, 0, 0, 0, 0, 1, 0, 0, 0, 0, 0, 1, 0, 1, 0, 0,\n",
       "       1, 0, 1, 0, 0, 0, 0, 0, 0, 1, 0, 0, 1, 1, 0, 1, 0, 0, 0, 0, 0, 0,\n",
       "       0, 0, 0, 0, 0, 1, 0, 1, 0, 0, 0, 1, 1, 0, 0, 0, 0, 0, 1, 0, 0, 0,\n",
       "       1, 0, 0, 0, 1, 0, 1, 1, 0, 1, 0, 0, 0, 0, 0, 0, 0, 0, 0, 0, 0, 0,\n",
       "       0, 0, 0, 0, 0, 0, 0, 1, 0, 1, 0, 0, 0, 0, 0, 0, 0, 1, 0, 0, 0, 0,\n",
       "       1, 0, 1, 0, 0, 0, 0, 1, 0, 1, 0, 0, 0, 0, 0, 0, 0, 1, 0, 0, 0, 0,\n",
       "       0, 0, 1, 0, 1, 0, 0, 0, 1, 0, 0, 0, 0, 1])"
      ]
     },
     "execution_count": 29,
     "metadata": {},
     "output_type": "execute_result"
    }
   ],
   "source": [
    "# Hyperparameter2\n",
    "interaction_threshold=0.3\n",
    "# Predict interactions based on the modified logic\n",
    "predicted_interactions = (interaction_rates > 0.3).astype(int)\n",
    "predicted_interactions"
   ]
  },
  {
   "cell_type": "code",
   "execution_count": 30,
   "id": "8272c896",
   "metadata": {},
   "outputs": [
    {
     "data": {
      "text/plain": [
       "array([0, 0, 0, 0, 0, 0, 1, 0, 0, 0, 1, 0, 1, 0, 1, 0, 1, 0, 0, 0, 0, 0,\n",
       "       1, 1, 1, 0, 0, 0, 1, 0, 0, 0, 0, 0, 0, 0, 0, 0, 0, 0, 0, 0, 1, 0,\n",
       "       0, 0, 0, 0, 0, 1, 0, 0, 0, 0, 0, 0, 0, 0, 0, 0, 0, 1, 1, 0, 0, 0,\n",
       "       0, 0, 0, 1, 0, 0, 0, 0, 0, 1, 0, 0, 0, 1, 0, 0, 0, 1, 0, 0, 0, 0,\n",
       "       0, 0, 0, 0, 1, 0, 0, 0, 0, 1, 0, 1, 0, 0, 0, 1, 0, 1, 1, 0, 0, 0,\n",
       "       1, 0, 0, 0, 0, 0, 0, 0, 0, 0, 0, 0, 0, 1, 0, 1, 0, 0, 0, 1, 0, 1,\n",
       "       0, 0, 0, 1, 0, 0, 0, 1, 0, 0, 0, 0, 0, 1, 0, 1, 0, 0, 0, 1, 0, 0,\n",
       "       0, 0, 0, 0, 0, 0, 1, 0, 0, 0, 0, 1, 0, 0, 0, 0, 0, 1, 0, 1, 0, 0,\n",
       "       1, 0, 1, 0, 0, 0, 0, 0, 0, 1, 0, 0, 1, 1, 0, 1, 0, 0, 0, 0, 0, 0,\n",
       "       0, 0, 0, 0, 0, 1, 0, 1, 0, 0, 0, 1, 1, 0, 0, 0, 0, 0, 1, 0, 0, 0,\n",
       "       1, 0, 0, 0, 1, 0, 1, 1, 0, 1, 0, 0, 0, 0, 0, 0, 0, 0, 0, 0, 0, 0,\n",
       "       0, 0, 0, 0, 0, 0, 0, 0, 0, 1, 0, 0, 0, 0, 0, 0, 0, 1, 0, 0, 0, 0,\n",
       "       1, 0, 1, 0, 0, 0, 0, 1, 0, 1, 0, 0, 0, 0, 0, 0, 0, 0, 0, 0, 0, 0,\n",
       "       0, 0, 1, 0, 1, 0, 0, 0, 1, 0, 0, 0, 0, 1])"
      ]
     },
     "execution_count": 30,
     "metadata": {},
     "output_type": "execute_result"
    }
   ],
   "source": [
    "# Compare predicted labels with actual labels\n",
    "actual_labels = (test_data['interactions'] > 0).astype(int).values\n",
    "actual_labels"
   ]
  },
  {
   "cell_type": "code",
   "execution_count": 31,
   "id": "636c0af4",
   "metadata": {},
   "outputs": [
    {
     "data": {
      "text/plain": [
       "0.98"
      ]
     },
     "execution_count": 31,
     "metadata": {},
     "output_type": "execute_result"
    }
   ],
   "source": [
    "# Calculate accuracy\n",
    "accuracy = np.mean(predicted_interactions == actual_labels)\n",
    "accuracy"
   ]
  },
  {
   "cell_type": "code",
   "execution_count": null,
   "id": "b17a228c",
   "metadata": {},
   "outputs": [],
   "source": []
  }
 ],
 "metadata": {
  "kernelspec": {
   "display_name": "Python 3 (ipykernel)",
   "language": "python",
   "name": "python3"
  },
  "language_info": {
   "codemirror_mode": {
    "name": "ipython",
    "version": 3
   },
   "file_extension": ".py",
   "mimetype": "text/x-python",
   "name": "python",
   "nbconvert_exporter": "python",
   "pygments_lexer": "ipython3",
   "version": "3.9.12"
  }
 },
 "nbformat": 4,
 "nbformat_minor": 5
}
