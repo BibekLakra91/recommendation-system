{
 "cells": [
  {
   "cell_type": "code",
   "execution_count": null,
   "id": "9bf14e37",
   "metadata": {},
   "outputs": [],
   "source": [
    "import pandas as pd\n",
    "import numpy as np\n",
    "from sklearn.feature_extraction.text import TfidfVectorizer\n",
    "from sklearn.metrics.pairwise import cosine_similarity\n",
    "from sklearn.model_selection import train_test_split\n",
    "from sklearn.metrics import accuracy_score"
   ]
  },
  {
   "cell_type": "code",
   "execution_count": null,
   "id": "74639642",
   "metadata": {
    "scrolled": true
   },
   "outputs": [],
   "source": [
    "df=pd.read_excel(\"Assignment - ML - Supporting Data.xlsx\")\n",
    "df.head()"
   ]
  },
  {
   "cell_type": "code",
   "execution_count": null,
   "id": "44ce31c0",
   "metadata": {},
   "outputs": [],
   "source": [
    "df.shape"
   ]
  },
  {
   "cell_type": "code",
   "execution_count": null,
   "id": "49299735",
   "metadata": {},
   "outputs": [],
   "source": [
    "df.info()"
   ]
  },
  {
   "cell_type": "code",
   "execution_count": null,
   "id": "9ec247ef",
   "metadata": {},
   "outputs": [],
   "source": [
    "def important_features(dataset):\n",
    "    data=dataset.copy()\n",
    "    for i in range(0,data.shape[0]):\n",
    "        data['tags'].fillna('', inplace=True)\n",
    "        data['hashtags'].fillna('', inplace=True)\n",
    "        data[\"feature\"]=data[\"tags\"]+' '+data[\"hashtags\"]\n",
    "    return data"
   ]
  },
  {
   "cell_type": "code",
   "execution_count": null,
   "id": "6e3b2082",
   "metadata": {},
   "outputs": [],
   "source": [
    "df=important_features(df)\n",
    "df[\"feature\"]"
   ]
  },
  {
   "cell_type": "code",
   "execution_count": null,
   "id": "6f38d9af",
   "metadata": {},
   "outputs": [],
   "source": [
    "# Split the data into training and testing sets\n",
    "train_data, test_data = train_test_split(df, test_size=0.3, random_state=42)"
   ]
  },
  {
   "cell_type": "code",
   "execution_count": null,
   "id": "b233df6b",
   "metadata": {},
   "outputs": [],
   "source": [
    "# Importing vectoriser\n",
    "vec=TfidfVectorizer()"
   ]
  },
  {
   "cell_type": "code",
   "execution_count": null,
   "id": "623e0e8c",
   "metadata": {},
   "outputs": [],
   "source": [
    "# vecs=vec.fit_transform(df[\"feature\"].apply(lambda x:np.str_(x)))\n",
    "tfidf_matrix_train = vec.fit_transform(train_data['feature'])\n",
    "tfidf_matrix_test = vec.transform(test_data['feature'])\n",
    "\n",
    "tfidf_matrix_test.shape\n",
    "tfidf_matrix_train.shape\n",
    "train_data['interactions']"
   ]
  },
  {
   "cell_type": "code",
   "execution_count": null,
   "id": "d19d6027",
   "metadata": {},
   "outputs": [],
   "source": [
    "sim=cosine_similarity(tfidf_matrix_test, tfidf_matrix_train)\n",
    "sim"
   ]
  },
  {
   "cell_type": "code",
   "execution_count": null,
   "id": "dee86ee9",
   "metadata": {},
   "outputs": [],
   "source": [
    "print(\"sim shape:\", sim.shape)\n",
    "print(\"interactions shape:\", train_data['interactions'].shape)"
   ]
  },
  {
   "cell_type": "code",
   "execution_count": null,
   "id": "40d8c175",
   "metadata": {},
   "outputs": [],
   "source": [
    "user_interactions = (train_data['interactions'] > 0).astype(int).values\n",
    "\n",
    "# Calculate the interaction rate for each test item\n",
    "interaction_rates = np.sum(user_interactions * (sim > 0.3), axis=1) / np.sum(sim > 0.3, axis=1)\n",
    "\n",
    "interaction_rates"
   ]
  },
  {
   "cell_type": "code",
   "execution_count": null,
   "id": "a26b8d21",
   "metadata": {},
   "outputs": [],
   "source": [
    "# Predict interactions based on the modified logic\n",
    "predicted_interactions = (interaction_rates > 0.3).astype(int)\n",
    "predicted_interactions"
   ]
  },
  {
   "cell_type": "code",
   "execution_count": null,
   "id": "8272c896",
   "metadata": {},
   "outputs": [],
   "source": [
    "# Compare predicted labels with actual labels\n",
    "actual_labels = (test_data['interactions'] > 0).astype(int).values\n",
    "actual_labels"
   ]
  },
  {
   "cell_type": "code",
   "execution_count": null,
   "id": "636c0af4",
   "metadata": {},
   "outputs": [],
   "source": [
    "# Calculate accuracy\n",
    "accuracy = np.mean(predicted_interactions == actual_labels)\n",
    "accuracy"
   ]
  },
  {
   "cell_type": "code",
   "execution_count": null,
   "id": "b17a228c",
   "metadata": {},
   "outputs": [],
   "source": []
  }
 ],
 "metadata": {
  "kernelspec": {
   "display_name": "Python 3 (ipykernel)",
   "language": "python",
   "name": "python3"
  },
  "language_info": {
   "codemirror_mode": {
    "name": "ipython",
    "version": 3
   },
   "file_extension": ".py",
   "mimetype": "text/x-python",
   "name": "python",
   "nbconvert_exporter": "python",
   "pygments_lexer": "ipython3",
   "version": "3.9.12"
  }
 },
 "nbformat": 4,
 "nbformat_minor": 5
}
